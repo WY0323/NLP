{
  "nbformat": 4,
  "nbformat_minor": 0,
  "metadata": {
    "kernelspec": {
      "display_name": "Python 3",
      "language": "python",
      "name": "python3"
    },
    "language_info": {
      "codemirror_mode": {
        "name": "ipython",
        "version": 3
      },
      "file_extension": ".py",
      "mimetype": "text/x-python",
      "name": "python",
      "nbconvert_exporter": "python",
      "pygments_lexer": "ipython3",
      "version": "3.7.9"
    },
    "papermill": {
      "default_parameters": {},
      "duration": 16501.185368,
      "end_time": "2021-02-27T15:30:59.608486",
      "environment_variables": {},
      "exception": null,
      "input_path": "__notebook__.ipynb",
      "output_path": "__notebook__.ipynb",
      "parameters": {},
      "start_time": "2021-02-27T10:55:58.423118",
      "version": "2.2.2"
    },
    "colab": {
      "name": "baseline .ipynb",
      "provenance": []
    }
  },
  "cells": [
    {
      "cell_type": "code",
      "metadata": {
        "_cell_guid": "b1076dfc-b9ad-4769-8c92-a6c4dae69d19",
        "_uuid": "8f2839f25d086af736a60e9eeb907d3b93b6e0e5",
        "execution": {
          "iopub.execute_input": "2021-02-27T10:56:03.233024Z",
          "iopub.status.busy": "2021-02-27T10:56:03.232354Z",
          "iopub.status.idle": "2021-02-27T10:56:04.379150Z",
          "shell.execute_reply": "2021-02-27T10:56:04.378484Z"
        },
        "papermill": {
          "duration": 1.161612,
          "end_time": "2021-02-27T10:56:04.379339",
          "exception": false,
          "start_time": "2021-02-27T10:56:03.217727",
          "status": "completed"
        },
        "tags": [],
        "id": "SV58MmzkKYS_"
      },
      "source": [
        "!wget --quiet https://raw.githubusercontent.com/tensorflow/models/master/official/nlp/bert/tokenization.py\n",
        "!wget --quiet https://github.com/spongebob-shortpants/nlp/blob/main/tokenization.py.txt"
      ],
      "execution_count": null,
      "outputs": []
    },
    {
      "cell_type": "code",
      "metadata": {
        "colab": {
          "base_uri": "https://localhost:8080/"
        },
        "id": "JxBBhg1JLyw2",
        "outputId": "1bf7cac7-02b2-4b2f-9252-be0f41fe438a"
      },
      "source": [
        "!pip install tensorflow_addons"
      ],
      "execution_count": null,
      "outputs": [
        {
          "output_type": "stream",
          "text": [
            "Collecting tensorflow_addons\n",
            "\u001b[?25l  Downloading https://files.pythonhosted.org/packages/74/e3/56d2fe76f0bb7c88ed9b2a6a557e25e83e252aec08f13de34369cd850a0b/tensorflow_addons-0.12.1-cp37-cp37m-manylinux2010_x86_64.whl (703kB)\n",
            "\r\u001b[K     |▌                               | 10kB 13.4MB/s eta 0:00:01\r\u001b[K     |█                               | 20kB 18.8MB/s eta 0:00:01\r\u001b[K     |█▍                              | 30kB 12.8MB/s eta 0:00:01\r\u001b[K     |█▉                              | 40kB 9.8MB/s eta 0:00:01\r\u001b[K     |██▎                             | 51kB 7.1MB/s eta 0:00:01\r\u001b[K     |██▉                             | 61kB 7.2MB/s eta 0:00:01\r\u001b[K     |███▎                            | 71kB 7.2MB/s eta 0:00:01\r\u001b[K     |███▊                            | 81kB 7.8MB/s eta 0:00:01\r\u001b[K     |████▏                           | 92kB 7.9MB/s eta 0:00:01\r\u001b[K     |████▋                           | 102kB 8.2MB/s eta 0:00:01\r\u001b[K     |█████▏                          | 112kB 8.2MB/s eta 0:00:01\r\u001b[K     |█████▋                          | 122kB 8.2MB/s eta 0:00:01\r\u001b[K     |██████                          | 133kB 8.2MB/s eta 0:00:01\r\u001b[K     |██████▌                         | 143kB 8.2MB/s eta 0:00:01\r\u001b[K     |███████                         | 153kB 8.2MB/s eta 0:00:01\r\u001b[K     |███████▌                        | 163kB 8.2MB/s eta 0:00:01\r\u001b[K     |████████                        | 174kB 8.2MB/s eta 0:00:01\r\u001b[K     |████████▍                       | 184kB 8.2MB/s eta 0:00:01\r\u001b[K     |████████▉                       | 194kB 8.2MB/s eta 0:00:01\r\u001b[K     |█████████▎                      | 204kB 8.2MB/s eta 0:00:01\r\u001b[K     |█████████▉                      | 215kB 8.2MB/s eta 0:00:01\r\u001b[K     |██████████▎                     | 225kB 8.2MB/s eta 0:00:01\r\u001b[K     |██████████▊                     | 235kB 8.2MB/s eta 0:00:01\r\u001b[K     |███████████▏                    | 245kB 8.2MB/s eta 0:00:01\r\u001b[K     |███████████▋                    | 256kB 8.2MB/s eta 0:00:01\r\u001b[K     |████████████▏                   | 266kB 8.2MB/s eta 0:00:01\r\u001b[K     |████████████▋                   | 276kB 8.2MB/s eta 0:00:01\r\u001b[K     |█████████████                   | 286kB 8.2MB/s eta 0:00:01\r\u001b[K     |█████████████▌                  | 296kB 8.2MB/s eta 0:00:01\r\u001b[K     |██████████████                  | 307kB 8.2MB/s eta 0:00:01\r\u001b[K     |██████████████▍                 | 317kB 8.2MB/s eta 0:00:01\r\u001b[K     |███████████████                 | 327kB 8.2MB/s eta 0:00:01\r\u001b[K     |███████████████▍                | 337kB 8.2MB/s eta 0:00:01\r\u001b[K     |███████████████▉                | 348kB 8.2MB/s eta 0:00:01\r\u001b[K     |████████████████▎               | 358kB 8.2MB/s eta 0:00:01\r\u001b[K     |████████████████▊               | 368kB 8.2MB/s eta 0:00:01\r\u001b[K     |█████████████████▎              | 378kB 8.2MB/s eta 0:00:01\r\u001b[K     |█████████████████▊              | 389kB 8.2MB/s eta 0:00:01\r\u001b[K     |██████████████████▏             | 399kB 8.2MB/s eta 0:00:01\r\u001b[K     |██████████████████▋             | 409kB 8.2MB/s eta 0:00:01\r\u001b[K     |███████████████████             | 419kB 8.2MB/s eta 0:00:01\r\u001b[K     |███████████████████▋            | 430kB 8.2MB/s eta 0:00:01\r\u001b[K     |████████████████████            | 440kB 8.2MB/s eta 0:00:01\r\u001b[K     |████████████████████▌           | 450kB 8.2MB/s eta 0:00:01\r\u001b[K     |█████████████████████           | 460kB 8.2MB/s eta 0:00:01\r\u001b[K     |█████████████████████▍          | 471kB 8.2MB/s eta 0:00:01\r\u001b[K     |██████████████████████          | 481kB 8.2MB/s eta 0:00:01\r\u001b[K     |██████████████████████▍         | 491kB 8.2MB/s eta 0:00:01\r\u001b[K     |██████████████████████▉         | 501kB 8.2MB/s eta 0:00:01\r\u001b[K     |███████████████████████▎        | 512kB 8.2MB/s eta 0:00:01\r\u001b[K     |███████████████████████▊        | 522kB 8.2MB/s eta 0:00:01\r\u001b[K     |████████████████████████▎       | 532kB 8.2MB/s eta 0:00:01\r\u001b[K     |████████████████████████▊       | 542kB 8.2MB/s eta 0:00:01\r\u001b[K     |█████████████████████████▏      | 552kB 8.2MB/s eta 0:00:01\r\u001b[K     |█████████████████████████▋      | 563kB 8.2MB/s eta 0:00:01\r\u001b[K     |██████████████████████████      | 573kB 8.2MB/s eta 0:00:01\r\u001b[K     |██████████████████████████▋     | 583kB 8.2MB/s eta 0:00:01\r\u001b[K     |███████████████████████████     | 593kB 8.2MB/s eta 0:00:01\r\u001b[K     |███████████████████████████▌    | 604kB 8.2MB/s eta 0:00:01\r\u001b[K     |████████████████████████████    | 614kB 8.2MB/s eta 0:00:01\r\u001b[K     |████████████████████████████▍   | 624kB 8.2MB/s eta 0:00:01\r\u001b[K     |████████████████████████████▉   | 634kB 8.2MB/s eta 0:00:01\r\u001b[K     |█████████████████████████████▍  | 645kB 8.2MB/s eta 0:00:01\r\u001b[K     |█████████████████████████████▉  | 655kB 8.2MB/s eta 0:00:01\r\u001b[K     |██████████████████████████████▎ | 665kB 8.2MB/s eta 0:00:01\r\u001b[K     |██████████████████████████████▊ | 675kB 8.2MB/s eta 0:00:01\r\u001b[K     |███████████████████████████████▏| 686kB 8.2MB/s eta 0:00:01\r\u001b[K     |███████████████████████████████▊| 696kB 8.2MB/s eta 0:00:01\r\u001b[K     |████████████████████████████████| 706kB 8.2MB/s \n",
            "\u001b[?25hRequirement already satisfied: typeguard>=2.7 in /usr/local/lib/python3.7/dist-packages (from tensorflow_addons) (2.7.1)\n",
            "Installing collected packages: tensorflow-addons\n",
            "Successfully installed tensorflow-addons-0.12.1\n"
          ],
          "name": "stdout"
        }
      ]
    },
    {
      "cell_type": "code",
      "metadata": {
        "colab": {
          "base_uri": "https://localhost:8080/"
        },
        "id": "Hy6vQe39LO8P",
        "outputId": "286202bc-7f96-4646-c6a5-e032aa05cad0"
      },
      "source": [
        "!pip install sentencepiece"
      ],
      "execution_count": null,
      "outputs": [
        {
          "output_type": "stream",
          "text": [
            "Collecting sentencepiece\n",
            "\u001b[?25l  Downloading https://files.pythonhosted.org/packages/f5/99/e0808cb947ba10f575839c43e8fafc9cc44e4a7a2c8f79c60db48220a577/sentencepiece-0.1.95-cp37-cp37m-manylinux2014_x86_64.whl (1.2MB)\n",
            "\u001b[K     |████████████████████████████████| 1.2MB 8.8MB/s \n",
            "\u001b[?25hInstalling collected packages: sentencepiece\n",
            "Successfully installed sentencepiece-0.1.95\n"
          ],
          "name": "stdout"
        }
      ]
    },
    {
      "cell_type": "code",
      "metadata": {
        "execution": {
          "iopub.execute_input": "2021-02-27T10:56:04.402083Z",
          "iopub.status.busy": "2021-02-27T10:56:04.401390Z",
          "iopub.status.idle": "2021-02-27T10:56:09.715281Z",
          "shell.execute_reply": "2021-02-27T10:56:09.716299Z"
        },
        "papermill": {
          "duration": 5.328264,
          "end_time": "2021-02-27T10:56:09.716506",
          "exception": false,
          "start_time": "2021-02-27T10:56:04.388242",
          "status": "completed"
        },
        "tags": [],
        "id": "1Y0iNCOvKYTB"
      },
      "source": [
        "import numpy as np\n",
        "import pandas as pd\n",
        "import tensorflow as tf\n",
        "from tensorflow.keras.layers import Dense, Input\n",
        "from tensorflow.keras.optimizers import Adam\n",
        "from tensorflow.keras.models import Model\n",
        "from tensorflow.keras.callbacks import ModelCheckpoint, EarlyStopping\n",
        "\n",
        "import tensorflow_hub as hub\n",
        "import keras\n",
        "import tokenization\n",
        "import tensorflow_addons as tfa"
      ],
      "execution_count": null,
      "outputs": []
    },
    {
      "cell_type": "code",
      "metadata": {
        "execution": {
          "iopub.execute_input": "2021-02-27T10:56:09.752433Z",
          "iopub.status.busy": "2021-02-27T10:56:09.751175Z",
          "iopub.status.idle": "2021-02-27T10:56:09.755728Z",
          "shell.execute_reply": "2021-02-27T10:56:09.756598Z"
        },
        "papermill": {
          "duration": 0.026424,
          "end_time": "2021-02-27T10:56:09.756899",
          "exception": false,
          "start_time": "2021-02-27T10:56:09.730475",
          "status": "completed"
        },
        "tags": [],
        "id": "9WRLh1UJKYTB"
      },
      "source": [
        "def bert_encode(texts, tokenizer, max_len=512):\n",
        "    all_tokens = []\n",
        "    all_masks = []\n",
        "    all_segments = []\n",
        "    \n",
        "    for text in texts:\n",
        "        text = tokenizer.tokenize(text)\n",
        "            \n",
        "        text = text[:max_len-2]\n",
        "        input_sequence = [\"[CLS]\"] + text + [\"[SEP]\"]\n",
        "        pad_len = max_len - len(input_sequence)\n",
        "        \n",
        "        tokens = tokenizer.convert_tokens_to_ids(input_sequence)\n",
        "        tokens += [0] * pad_len\n",
        "        pad_masks = [1] * len(input_sequence) + [0] * pad_len\n",
        "        segment_ids = [0] * max_len\n",
        "        \n",
        "        all_tokens.append(tokens)\n",
        "        all_masks.append(pad_masks)\n",
        "        all_segments.append(segment_ids)\n",
        "    \n",
        "    return np.array(all_tokens), np.array(all_masks), np.array(all_segments)"
      ],
      "execution_count": null,
      "outputs": []
    },
    {
      "cell_type": "code",
      "metadata": {
        "execution": {
          "iopub.execute_input": "2021-02-27T10:56:09.801222Z",
          "iopub.status.busy": "2021-02-27T10:56:09.799229Z",
          "iopub.status.idle": "2021-02-27T10:56:09.809881Z",
          "shell.execute_reply": "2021-02-27T10:56:09.810563Z"
        },
        "papermill": {
          "duration": 0.040129,
          "end_time": "2021-02-27T10:56:09.810816",
          "exception": false,
          "start_time": "2021-02-27T10:56:09.770687",
          "status": "completed"
        },
        "tags": [],
        "id": "N9U3V5QWKYTC"
      },
      "source": [
        "def build_model(bert_layer, max_len=512):\n",
        "    input_word_ids = Input(shape=(max_len,), dtype=tf.int32, name=\"input_word_ids\")\n",
        "    input_mask = Input(shape=(max_len,), dtype=tf.int32, name=\"input_mask\")\n",
        "    segment_ids = Input(shape=(max_len,), dtype=tf.int32, name=\"segment_ids\")\n",
        "\n",
        "    _, sequence_output = bert_layer([input_word_ids, input_mask, segment_ids])\n",
        "    clf_output = sequence_output[:, 0, :]\n",
        "    #out = Dense(1, activation='sigmoid')(clf_output)\n",
        "    out = Dense(20, activation='softmax')(clf_output)\n",
        "    \n",
        "    model = Model(inputs=[input_word_ids, input_mask, segment_ids], outputs=out)\n",
        "    \n",
        "    optimizer_adamw = tfa.optimizers.AdamW(lr = 1e-5, weight_decay = 2e-6, clipvalue = 700)\n",
        "    optimizer_adam = Adam(lr=1e-5)\n",
        "    \n",
        "    model.compile(optimizer_adamw, loss='categorical_crossentropy', metrics=['accuracy'])\n",
        "    \n",
        "    return model"
      ],
      "execution_count": null,
      "outputs": []
    },
    {
      "cell_type": "code",
      "metadata": {
        "execution": {
          "iopub.execute_input": "2021-02-27T10:56:09.846988Z",
          "iopub.status.busy": "2021-02-27T10:56:09.846229Z",
          "iopub.status.idle": "2021-02-27T10:57:13.565119Z",
          "shell.execute_reply": "2021-02-27T10:57:13.565546Z"
        },
        "papermill": {
          "duration": 63.740435,
          "end_time": "2021-02-27T10:57:13.565719",
          "exception": false,
          "start_time": "2021-02-27T10:56:09.825284",
          "status": "completed"
        },
        "tags": [],
        "colab": {
          "base_uri": "https://localhost:8080/"
        },
        "id": "g3plDvsTKYTC",
        "outputId": "853471c4-d83d-44b3-9fdb-171edc8a4b6e"
      },
      "source": [
        "%%time\n",
        "module_url = \"https://tfhub.dev/tensorflow/bert_en_uncased_L-24_H-1024_A-16/1\"\n",
        "bert_layer = hub.KerasLayer(module_url, trainable=True)"
      ],
      "execution_count": null,
      "outputs": [
        {
          "output_type": "stream",
          "text": [
            "CPU times: user 22.1 s, sys: 4.18 s, total: 26.3 s\n",
            "Wall time: 34.8 s\n"
          ],
          "name": "stdout"
        }
      ]
    },
    {
      "cell_type": "code",
      "metadata": {
        "colab": {
          "base_uri": "https://localhost:8080/"
        },
        "id": "t56qyKiBbxT4",
        "outputId": "71780657-d2ac-44c9-8d68-ca73ccd22083"
      },
      "source": [
        "from google.colab import drive\n",
        "drive.mount('/content/gdrive')"
      ],
      "execution_count": null,
      "outputs": [
        {
          "output_type": "stream",
          "text": [
            "Mounted at /content/gdrive\n"
          ],
          "name": "stdout"
        }
      ]
    },
    {
      "cell_type": "code",
      "metadata": {
        "execution": {
          "iopub.execute_input": "2021-02-27T10:57:13.597780Z",
          "iopub.status.busy": "2021-02-27T10:57:13.597271Z",
          "iopub.status.idle": "2021-02-27T10:57:15.532003Z",
          "shell.execute_reply": "2021-02-27T10:57:15.531181Z"
        },
        "papermill": {
          "duration": 1.957635,
          "end_time": "2021-02-27T10:57:15.532139",
          "exception": false,
          "start_time": "2021-02-27T10:57:13.574504",
          "status": "completed"
        },
        "tags": [],
        "id": "qtTNdtypKYTD"
      },
      "source": [
        "train = pd.read_csv('/content/gdrive/My Drive/train.csv', names=['label', 'node idx'])\n",
        "text  = pd.read_csv('/content/gdrive/My Drive/text.csv', names=['paper id', 'title', 'abstract'])\n",
        "test  = pd.read_csv('/content/gdrive/My Drive/test.csv', names=['node idx'])\n",
        "node2paper = pd.read_csv('/content/gdrive/My Drive/nodeid2paperid.csv', header=0)\n",
        "\n",
        "train = pd.merge(train, node2paper, on='node idx')\n",
        "train = pd.merge(train, text, on='paper id')\n",
        "\n",
        "test = pd.merge(test, node2paper, on='node idx')\n",
        "test = pd.merge(test, text, on='paper id')\n",
        "\n",
        "NUM_CLASSES = 20\n",
        "KFOLD = 1"
      ],
      "execution_count": null,
      "outputs": []
    },
    {
      "cell_type": "code",
      "metadata": {
        "execution": {
          "iopub.execute_input": "2021-02-27T10:57:15.555576Z",
          "iopub.status.busy": "2021-02-27T10:57:15.553840Z",
          "iopub.status.idle": "2021-02-27T10:57:15.556167Z",
          "shell.execute_reply": "2021-02-27T10:57:15.556562Z"
        },
        "papermill": {
          "duration": 0.015085,
          "end_time": "2021-02-27T10:57:15.556686",
          "exception": false,
          "start_time": "2021-02-27T10:57:15.541601",
          "status": "completed"
        },
        "tags": [],
        "colab": {
          "base_uri": "https://localhost:8080/",
          "height": 359
        },
        "id": "UesnOqjhKYTE",
        "outputId": "2fb8329c-0b86-465e-c3ea-4cd4dfe9e592"
      },
      "source": [
        "train = train[:10]\n",
        "train"
      ],
      "execution_count": null,
      "outputs": [
        {
          "output_type": "execute_result",
          "data": {
            "text/html": [
              "<div>\n",
              "<style scoped>\n",
              "    .dataframe tbody tr th:only-of-type {\n",
              "        vertical-align: middle;\n",
              "    }\n",
              "\n",
              "    .dataframe tbody tr th {\n",
              "        vertical-align: top;\n",
              "    }\n",
              "\n",
              "    .dataframe thead th {\n",
              "        text-align: right;\n",
              "    }\n",
              "</style>\n",
              "<table border=\"1\" class=\"dataframe\">\n",
              "  <thead>\n",
              "    <tr style=\"text-align: right;\">\n",
              "      <th></th>\n",
              "      <th>label</th>\n",
              "      <th>node idx</th>\n",
              "      <th>paper id</th>\n",
              "      <th>title</th>\n",
              "      <th>abstract</th>\n",
              "    </tr>\n",
              "  </thead>\n",
              "  <tbody>\n",
              "    <tr>\n",
              "      <th>0</th>\n",
              "      <td>4</td>\n",
              "      <td>0</td>\n",
              "      <td>9657784</td>\n",
              "      <td>evasion attacks against machine learning at te...</td>\n",
              "      <td>In security-sensitive applications, the succes...</td>\n",
              "    </tr>\n",
              "    <tr>\n",
              "      <th>1</th>\n",
              "      <td>5</td>\n",
              "      <td>1</td>\n",
              "      <td>39886162</td>\n",
              "      <td>how hard is computing parity with noisy commun...</td>\n",
              "      <td>We show a tight lower bound of $\\Omega(N \\log\\...</td>\n",
              "    </tr>\n",
              "    <tr>\n",
              "      <th>2</th>\n",
              "      <td>8</td>\n",
              "      <td>3</td>\n",
              "      <td>121432379</td>\n",
              "      <td>a promise theory perspective on data networks</td>\n",
              "      <td>Networking is undergoing a transformation thro...</td>\n",
              "    </tr>\n",
              "    <tr>\n",
              "      <th>3</th>\n",
              "      <td>6</td>\n",
              "      <td>6</td>\n",
              "      <td>1444859417</td>\n",
              "      <td>webvrgis based city bigdata 3d visualization a...</td>\n",
              "      <td>This paper shows the WEBVRGIS platform overlyi...</td>\n",
              "    </tr>\n",
              "    <tr>\n",
              "      <th>4</th>\n",
              "      <td>4</td>\n",
              "      <td>7</td>\n",
              "      <td>1483430697</td>\n",
              "      <td>information theoretic authentication and secre...</td>\n",
              "      <td>In the splitting model, information theoretic ...</td>\n",
              "    </tr>\n",
              "    <tr>\n",
              "      <th>5</th>\n",
              "      <td>3</td>\n",
              "      <td>8</td>\n",
              "      <td>1486601621</td>\n",
              "      <td>whealth transforming telehealth services</td>\n",
              "      <td>A worldwide increase in proportions of older p...</td>\n",
              "    </tr>\n",
              "    <tr>\n",
              "      <th>6</th>\n",
              "      <td>16</td>\n",
              "      <td>14</td>\n",
              "      <td>1528301850</td>\n",
              "      <td>a bi level view of inpainting based image comp...</td>\n",
              "      <td>Inpainting based image compression approaches,...</td>\n",
              "    </tr>\n",
              "    <tr>\n",
              "      <th>7</th>\n",
              "      <td>19</td>\n",
              "      <td>19</td>\n",
              "      <td>1546946208</td>\n",
              "      <td>electrical structure based pmu placement in el...</td>\n",
              "      <td>Recent work on complex networks compared the t...</td>\n",
              "    </tr>\n",
              "    <tr>\n",
              "      <th>8</th>\n",
              "      <td>14</td>\n",
              "      <td>21</td>\n",
              "      <td>1551937652</td>\n",
              "      <td>detecting simultaneous integer relations for s...</td>\n",
              "      <td>An algorithm which either finds an nonzero int...</td>\n",
              "    </tr>\n",
              "    <tr>\n",
              "      <th>9</th>\n",
              "      <td>3</td>\n",
              "      <td>29</td>\n",
              "      <td>1578902217</td>\n",
              "      <td>time critical social mobilization</td>\n",
              "      <td>The World Wide Web is commonly seen as a platf...</td>\n",
              "    </tr>\n",
              "  </tbody>\n",
              "</table>\n",
              "</div>"
            ],
            "text/plain": [
              "   label  ...                                           abstract\n",
              "0      4  ...  In security-sensitive applications, the succes...\n",
              "1      5  ...  We show a tight lower bound of $\\Omega(N \\log\\...\n",
              "2      8  ...  Networking is undergoing a transformation thro...\n",
              "3      6  ...  This paper shows the WEBVRGIS platform overlyi...\n",
              "4      4  ...  In the splitting model, information theoretic ...\n",
              "5      3  ...  A worldwide increase in proportions of older p...\n",
              "6     16  ...  Inpainting based image compression approaches,...\n",
              "7     19  ...  Recent work on complex networks compared the t...\n",
              "8     14  ...  An algorithm which either finds an nonzero int...\n",
              "9      3  ...  The World Wide Web is commonly seen as a platf...\n",
              "\n",
              "[10 rows x 5 columns]"
            ]
          },
          "metadata": {
            "tags": []
          },
          "execution_count": 14
        }
      ]
    },
    {
      "cell_type": "code",
      "metadata": {
        "execution": {
          "iopub.execute_input": "2021-02-27T10:57:15.578497Z",
          "iopub.status.busy": "2021-02-27T10:57:15.578021Z",
          "iopub.status.idle": "2021-02-27T10:57:15.687667Z",
          "shell.execute_reply": "2021-02-27T10:57:15.687224Z"
        },
        "papermill": {
          "duration": 0.122208,
          "end_time": "2021-02-27T10:57:15.687814",
          "exception": false,
          "start_time": "2021-02-27T10:57:15.565606",
          "status": "completed"
        },
        "tags": [],
        "id": "mZieuotbKYTE"
      },
      "source": [
        "vocab_file = bert_layer.resolved_object.vocab_file.asset_path.numpy()\n",
        "do_lower_case = bert_layer.resolved_object.do_lower_case.numpy()\n",
        "tokenizer = tokenization.FullTokenizer(vocab_file, do_lower_case)"
      ],
      "execution_count": null,
      "outputs": []
    },
    {
      "cell_type": "code",
      "metadata": {
        "execution": {
          "iopub.execute_input": "2021-02-27T10:57:15.742090Z",
          "iopub.status.busy": "2021-02-27T10:57:15.731848Z",
          "iopub.status.idle": "2021-02-27T11:02:52.075805Z",
          "shell.execute_reply": "2021-02-27T11:02:52.074645Z"
        },
        "papermill": {
          "duration": 336.377641,
          "end_time": "2021-02-27T11:02:52.075957",
          "exception": false,
          "start_time": "2021-02-27T10:57:15.698316",
          "status": "completed"
        },
        "tags": [],
        "id": "EQyinH8rKYTE"
      },
      "source": [
        "train_input = bert_encode(train.abstract.values, tokenizer, max_len=128)\n",
        "test_input = bert_encode(test.abstract.values, tokenizer, max_len=128)\n",
        "train_labels = keras.utils.to_categorical(train.label.values, NUM_CLASSES)"
      ],
      "execution_count": null,
      "outputs": []
    },
    {
      "cell_type": "code",
      "metadata": {
        "execution": {
          "iopub.execute_input": "2021-02-27T11:02:52.122937Z",
          "iopub.status.busy": "2021-02-27T11:02:52.117863Z",
          "iopub.status.idle": "2021-02-27T11:03:54.833438Z",
          "shell.execute_reply": "2021-02-27T11:03:54.833880Z"
        },
        "papermill": {
          "duration": 62.748425,
          "end_time": "2021-02-27T11:03:54.834058",
          "exception": false,
          "start_time": "2021-02-27T11:02:52.085633",
          "status": "completed"
        },
        "tags": [],
        "id": "2ED6l_ELKYTF"
      },
      "source": [
        "test_input = bert_encode(test.abstract.values, tokenizer, max_len=128)"
      ],
      "execution_count": null,
      "outputs": []
    },
    {
      "cell_type": "code",
      "metadata": {
        "execution": {
          "iopub.execute_input": "2021-02-27T11:03:54.858512Z",
          "iopub.status.busy": "2021-02-27T11:03:54.857735Z",
          "iopub.status.idle": "2021-02-27T11:03:56.051199Z",
          "shell.execute_reply": "2021-02-27T11:03:56.050735Z"
        },
        "papermill": {
          "duration": 1.20744,
          "end_time": "2021-02-27T11:03:56.051325",
          "exception": false,
          "start_time": "2021-02-27T11:03:54.843885",
          "status": "completed"
        },
        "tags": [],
        "colab": {
          "base_uri": "https://localhost:8080/"
        },
        "id": "NUlBZw95KYTF",
        "outputId": "862204fa-9158-4984-c3dc-99515714f6f5"
      },
      "source": [
        "model = build_model(bert_layer, max_len=128)\n",
        "model.summary()"
      ],
      "execution_count": null,
      "outputs": [
        {
          "output_type": "stream",
          "text": [
            "Model: \"model\"\n",
            "__________________________________________________________________________________________________\n",
            "Layer (type)                    Output Shape         Param #     Connected to                     \n",
            "==================================================================================================\n",
            "input_word_ids (InputLayer)     [(None, 128)]        0                                            \n",
            "__________________________________________________________________________________________________\n",
            "input_mask (InputLayer)         [(None, 128)]        0                                            \n",
            "__________________________________________________________________________________________________\n",
            "segment_ids (InputLayer)        [(None, 128)]        0                                            \n",
            "__________________________________________________________________________________________________\n",
            "keras_layer (KerasLayer)        [(None, 1024), (None 335141889   input_word_ids[0][0]             \n",
            "                                                                 input_mask[0][0]                 \n",
            "                                                                 segment_ids[0][0]                \n",
            "__________________________________________________________________________________________________\n",
            "tf.__operators__.getitem (Slici (None, 1024)         0           keras_layer[0][1]                \n",
            "__________________________________________________________________________________________________\n",
            "dense (Dense)                   (None, 20)           20500       tf.__operators__.getitem[0][0]   \n",
            "==================================================================================================\n",
            "Total params: 335,162,389\n",
            "Trainable params: 335,162,388\n",
            "Non-trainable params: 1\n",
            "__________________________________________________________________________________________________\n"
          ],
          "name": "stdout"
        }
      ]
    },
    {
      "cell_type": "code",
      "metadata": {
        "execution": {
          "iopub.execute_input": "2021-02-27T11:03:56.077856Z",
          "iopub.status.busy": "2021-02-27T11:03:56.076956Z",
          "iopub.status.idle": "2021-02-27T15:25:48.412931Z",
          "shell.execute_reply": "2021-02-27T15:25:48.413400Z"
        },
        "papermill": {
          "duration": 15712.351948,
          "end_time": "2021-02-27T15:25:48.413556",
          "exception": false,
          "start_time": "2021-02-27T11:03:56.061608",
          "status": "completed"
        },
        "tags": [],
        "colab": {
          "base_uri": "https://localhost:8080/"
        },
        "id": "US971ZGuKYTF",
        "outputId": "cac386b1-2a5e-4675-edbf-be80236e2943"
      },
      "source": [
        "\n",
        "early_stopping = EarlyStopping(monitor='val_accuracy', verbose=0, mode='max', patience=2)\n",
        "    \n",
        "train_history = model.fit(\n",
        "    train_input, \n",
        "    train_labels,\n",
        "    validation_split=0.2,\n",
        "    epochs=8,\n",
        "    batch_size=16,\n",
        "    callbacks=[early_stopping],\n",
        ")"
      ],
      "execution_count": null,
      "outputs": [
        {
          "output_type": "stream",
          "text": [
            "Epoch 1/8\n",
            "1/1 [==============================] - 70s 70s/step - loss: 3.0995 - accuracy: 0.0000e+00 - val_loss: 4.2360 - val_accuracy: 0.0000e+00\n",
            "Epoch 2/8\n",
            "1/1 [==============================] - 29s 29s/step - loss: 2.4884 - accuracy: 0.3750 - val_loss: 4.0271 - val_accuracy: 0.0000e+00\n",
            "Epoch 3/8\n",
            "1/1 [==============================] - 29s 29s/step - loss: 1.8493 - accuracy: 0.3750 - val_loss: 3.8428 - val_accuracy: 0.0000e+00\n"
          ],
          "name": "stdout"
        }
      ]
    },
    {
      "cell_type": "code",
      "metadata": {
        "execution": {
          "iopub.execute_input": "2021-02-27T15:25:57.831975Z",
          "iopub.status.busy": "2021-02-27T15:25:57.831100Z",
          "iopub.status.idle": "2021-02-27T15:26:34.642612Z",
          "shell.execute_reply": "2021-02-27T15:26:34.641511Z"
        },
        "papermill": {
          "duration": 41.368081,
          "end_time": "2021-02-27T15:26:34.642798",
          "exception": false,
          "start_time": "2021-02-27T15:25:53.274717",
          "status": "completed"
        },
        "tags": [],
        "id": "ttrfxYEdKYTG"
      },
      "source": [
        "model.save('model.h5')\n",
        "#model.load_weights('model.h5')"
      ],
      "execution_count": null,
      "outputs": []
    },
    {
      "cell_type": "code",
      "metadata": {
        "execution": {
          "iopub.execute_input": "2021-02-27T15:26:44.205114Z",
          "iopub.status.busy": "2021-02-27T15:26:44.204272Z",
          "iopub.status.idle": "2021-02-27T15:30:38.886200Z",
          "shell.execute_reply": "2021-02-27T15:30:38.886597Z"
        },
        "papermill": {
          "duration": 239.568056,
          "end_time": "2021-02-27T15:30:38.886781",
          "exception": false,
          "start_time": "2021-02-27T15:26:39.318725",
          "status": "completed"
        },
        "tags": [],
        "id": "_cRGv8MAKYTG",
        "outputId": "d539dc46-fed4-4c50-dc90-628899e37e70"
      },
      "source": [
        "proba_test = np.zeros((len(test), NUM_CLASSES))\n",
        "proba_test += model.predict(test_input, verbose=1, batch_size=16) / KFOLD\n",
        "sub_test = np.argmax(proba_test, axis=1)"
      ],
      "execution_count": null,
      "outputs": [
        {
          "output_type": "stream",
          "text": [
            "858/858 [==============================] - 235s 270ms/step\n"
          ],
          "name": "stdout"
        }
      ]
    },
    {
      "cell_type": "code",
      "metadata": {
        "execution": {
          "iopub.execute_input": "2021-02-27T15:30:48.832457Z",
          "iopub.status.busy": "2021-02-27T15:30:48.831936Z",
          "iopub.status.idle": "2021-02-27T15:30:49.021831Z",
          "shell.execute_reply": "2021-02-27T15:30:49.020801Z"
        },
        "papermill": {
          "duration": 5.318486,
          "end_time": "2021-02-27T15:30:49.021969",
          "exception": false,
          "start_time": "2021-02-27T15:30:43.703483",
          "status": "completed"
        },
        "tags": [],
        "id": "309PX3owKYTG"
      },
      "source": [
        "sub = pd.DataFrame()\n",
        "sub['id'] = test['node idx']\n",
        "sub['label'] = sub_test\n",
        "sub.to_csv('submission.csv', index=False)"
      ],
      "execution_count": null,
      "outputs": []
    }
  ]
}